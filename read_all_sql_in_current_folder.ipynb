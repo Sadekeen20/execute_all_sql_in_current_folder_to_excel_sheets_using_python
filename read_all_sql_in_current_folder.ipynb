{
 "cells": [
  {
   "cell_type": "code",
   "execution_count": null,
   "metadata": {},
   "outputs": [],
   "source": [
    "# use your credentials here\n",
    "host='' \n",
    "port=8081 \n",
    "username=''"
   ]
  },
  {
   "cell_type": "code",
   "execution_count": null,
   "metadata": {},
   "outputs": [],
   "source": [
    "# Import necessary libraries\n",
    "import os\n",
    "from pyhive import presto\n",
    "import pandas as pd\n",
    "import openpyxl\n",
    "\n",
    "# Create a connection to a Presto Hive database\n",
    "connection = presto.connect(host=host, port=port, username=username)\n",
    "\n",
    "# Get all SQL files in the current folder\n",
    "sql_files = [file for file in os.listdir('.') if file.endswith('.sql')]\n",
    "\n",
    "# Create a new Excel file for storing the results\n",
    "excel_file = pd.ExcelWriter('all_sql.xlsx')\n",
    "\n",
    "# Iterate over each SQL file in the current directory\n",
    "for sql_file in sql_files:\n",
    "    # Read the contents of the SQL file\n",
    "    with open(sql_file, 'r') as file:\n",
    "        sql_script = file.read()\n",
    "\n",
    "    # Extract the file name without the '.sql' extension as the sheet name\n",
    "    sheet_name = os.path.splitext(sql_file)[0]\n",
    "\n",
    "    # Execute the SQL script and fetch the results\n",
    "    cursor = connection.cursor()\n",
    "    cursor.execute(sql_script)\n",
    "    results = cursor.fetchall()\n",
    "    \n",
    "    # Convert the query results into a DataFrame\n",
    "    df = pd.DataFrame.from_records(results, columns=[i[0] for i in cursor.description])\n",
    "    \n",
    "    # Write the DataFrame to the Excel sheet\n",
    "    df.to_excel(excel_file, sheet_name=sheet_name, index=False)\n",
    "\n",
    "# Save and close the Excel file\n",
    "excel_file.save()\n",
    "excel_file.close()\n",
    "\n",
    "# Close the Hive connection\n",
    "connection.close()\n",
    "\n",
    "# Open the generated Excel file\n",
    "os.startfile(\"all_sql.xlsx\")\n"
   ]
  }
 ],
 "metadata": {
  "language_info": {
   "name": "python"
  },
  "orig_nbformat": 4
 },
 "nbformat": 4,
 "nbformat_minor": 2
}
